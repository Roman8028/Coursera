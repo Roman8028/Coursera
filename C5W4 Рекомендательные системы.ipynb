{
 "cells": [
  {
   "cell_type": "code",
   "execution_count": 1,
   "metadata": {},
   "outputs": [],
   "source": [
    "import pandas as pd\n",
    "import numpy as np\n",
    "import collections"
   ]
  },
  {
   "cell_type": "code",
   "execution_count": 2,
   "metadata": {},
   "outputs": [],
   "source": [
    "# Функция сохранения в файл ответа, представленного массивом\n",
    "def save_answerArray(task,array):\n",
    "    with open(\"C5W4-\" + str(task)+\".txt\",\"w\") as fout:\n",
    "        fout.write(\" \".join([str(el) for el in array]))"
   ]
  },
  {
   "cell_type": "code",
   "execution_count": 4,
   "metadata": {},
   "outputs": [
    {
     "data": {
      "text/html": [
       "<div>\n",
       "<style scoped>\n",
       "    .dataframe tbody tr th:only-of-type {\n",
       "        vertical-align: middle;\n",
       "    }\n",
       "\n",
       "    .dataframe tbody tr th {\n",
       "        vertical-align: top;\n",
       "    }\n",
       "\n",
       "    .dataframe thead th {\n",
       "        text-align: right;\n",
       "    }\n",
       "</style>\n",
       "<table border=\"1\" class=\"dataframe\">\n",
       "  <thead>\n",
       "    <tr style=\"text-align: right;\">\n",
       "      <th></th>\n",
       "      <th>viewed</th>\n",
       "      <th>bought</th>\n",
       "    </tr>\n",
       "  </thead>\n",
       "  <tbody>\n",
       "    <tr>\n",
       "      <th>0</th>\n",
       "      <td>6,7,8</td>\n",
       "      <td>NaN</td>\n",
       "    </tr>\n",
       "    <tr>\n",
       "      <th>1</th>\n",
       "      <td>13,14,15</td>\n",
       "      <td>NaN</td>\n",
       "    </tr>\n",
       "    <tr>\n",
       "      <th>2</th>\n",
       "      <td>22,23</td>\n",
       "      <td>NaN</td>\n",
       "    </tr>\n",
       "    <tr>\n",
       "      <th>3</th>\n",
       "      <td>28,29,30,31,32,33</td>\n",
       "      <td>NaN</td>\n",
       "    </tr>\n",
       "    <tr>\n",
       "      <th>4</th>\n",
       "      <td>40,41</td>\n",
       "      <td>NaN</td>\n",
       "    </tr>\n",
       "  </tbody>\n",
       "</table>\n",
       "</div>"
      ],
      "text/plain": [
       "              viewed bought\n",
       "0              6,7,8    NaN\n",
       "1           13,14,15    NaN\n",
       "2              22,23    NaN\n",
       "3  28,29,30,31,32,33    NaN\n",
       "4              40,41    NaN"
      ]
     },
     "execution_count": 4,
     "metadata": {},
     "output_type": "execute_result"
    }
   ],
   "source": [
    "df_train = pd.read_table('coursera_sessions_train.txt', sep=';', names=['viewed', 'bought'])\n",
    "df_test = pd.read_table('coursera_sessions_test.txt', sep=';', names=['viewed', 'bought'])\n",
    "df_test.head()\n",
    "#df_train.info()"
   ]
  },
  {
   "cell_type": "code",
   "execution_count": 4,
   "metadata": {},
   "outputs": [],
   "source": [
    "viewed_train =[]\n",
    "for i in df_train.viewed:\n",
    "    viewed_train.extend(i.split(','))\n",
    "df_train.dropna(subset=['bought'], inplace=True)\n",
    "df_test.dropna(subset=['bought'], inplace=True)    \n",
    "bought_train =[]\n",
    "for i in df_train.bought:\n",
    "    bought_train.extend(i.split(','))"
   ]
  },
  {
   "cell_type": "code",
   "execution_count": 5,
   "metadata": {},
   "outputs": [],
   "source": [
    "c_viewed = collections.Counter()\n",
    "c_bought = collections.Counter()\n",
    "for i in viewed_train:\n",
    "    c_viewed[i] += 1\n",
    "for i in bought_train:\n",
    "    c_bought[i] += 1\n",
    "\n",
    "\n"
   ]
  },
  {
   "cell_type": "code",
   "execution_count": 90,
   "metadata": {},
   "outputs": [
    {
     "name": "stdout",
     "output_type": "stream",
     "text": [
      "['0', '6', '2', ',']\n"
     ]
    }
   ],
   "source": [
    "l = '2,60,8,59,60,7,9'\n",
    "l1 = [1,1,2,10]\n",
    "#(list(collections.OrderedDict.fromkeys(l)))\n",
    "print([x[0]for x in sorted(zip(list(collections.OrderedDict.fromkeys(l)), l1), key=lambda x: (x[1]), reverse=True)])\n"
   ]
  },
  {
   "cell_type": "code",
   "execution_count": 105,
   "metadata": {},
   "outputs": [],
   "source": [
    "def recom(lst, weight):\n",
    "    lst_n = list(collections.OrderedDict.fromkeys(lst.split(',')))\n",
    "    r = [x[0] for x in sorted(zip(lst_n,[weight[str(x)]for x in lst_n]), key=lambda x: (x[1]), reverse=True)]\n",
    "    return ','.join(str(x) for x in (r[0 : min(len(lst_n), 5)]))\n",
    "def recom_viewed(lst):\n",
    "    return recom(lst, c_viewed)\n",
    "def recom_bought(lst):\n",
    "    return recom(lst, c_bought)"
   ]
  },
  {
   "cell_type": "code",
   "execution_count": 102,
   "metadata": {},
   "outputs": [
    {
     "name": "stdout",
     "output_type": "stream",
     "text": [
      "7,8,2,9,60\n",
      "225\n"
     ]
    }
   ],
   "source": [
    "print(recom_viewed(l))\n",
    "print(c_viewed['8'])\n"
   ]
  },
  {
   "cell_type": "code",
   "execution_count": 108,
   "metadata": {},
   "outputs": [],
   "source": [
    "df_train['re_viewed'] = df_train['viewed'].apply(recom_viewed)\n",
    "df_train['re_bought'] = df_train['viewed'].apply(recom_bought)\n",
    "df_test['re_viewed'] = df_test['viewed'].apply(recom_viewed)\n",
    "df_test['re_bought'] = df_test['viewed'].apply(recom_bought)"
   ]
  },
  {
   "cell_type": "code",
   "execution_count": 109,
   "metadata": {},
   "outputs": [
    {
     "data": {
      "text/html": [
       "<div>\n",
       "<style scoped>\n",
       "    .dataframe tbody tr th:only-of-type {\n",
       "        vertical-align: middle;\n",
       "    }\n",
       "\n",
       "    .dataframe tbody tr th {\n",
       "        vertical-align: top;\n",
       "    }\n",
       "\n",
       "    .dataframe thead th {\n",
       "        text-align: right;\n",
       "    }\n",
       "</style>\n",
       "<table border=\"1\" class=\"dataframe\">\n",
       "  <thead>\n",
       "    <tr style=\"text-align: right;\">\n",
       "      <th></th>\n",
       "      <th>viewed</th>\n",
       "      <th>bought</th>\n",
       "      <th>re_viewed</th>\n",
       "      <th>re_bought</th>\n",
       "    </tr>\n",
       "  </thead>\n",
       "  <tbody>\n",
       "    <tr>\n",
       "      <th>7</th>\n",
       "      <td>63,68,69,70,66,61,59,61,66,68</td>\n",
       "      <td>66,63</td>\n",
       "      <td>63,68,66,61,59</td>\n",
       "      <td>63,68,69,70,66</td>\n",
       "    </tr>\n",
       "    <tr>\n",
       "      <th>14</th>\n",
       "      <td>158,159,160,159,161,162</td>\n",
       "      <td>162</td>\n",
       "      <td>158,162,160,159,161</td>\n",
       "      <td>158,162,160,159,161</td>\n",
       "    </tr>\n",
       "    <tr>\n",
       "      <th>19</th>\n",
       "      <td>200,201,202,203,204</td>\n",
       "      <td>201,205</td>\n",
       "      <td>204,202,203,200,201</td>\n",
       "      <td>204,202,200,201,203</td>\n",
       "    </tr>\n",
       "    <tr>\n",
       "      <th>34</th>\n",
       "      <td>371,372,371</td>\n",
       "      <td>371,373</td>\n",
       "      <td>371,372</td>\n",
       "      <td>371,372</td>\n",
       "    </tr>\n",
       "    <tr>\n",
       "      <th>40</th>\n",
       "      <td>422</td>\n",
       "      <td>422</td>\n",
       "      <td>422</td>\n",
       "      <td>422</td>\n",
       "    </tr>\n",
       "  </tbody>\n",
       "</table>\n",
       "</div>"
      ],
      "text/plain": [
       "                           viewed   bought            re_viewed  \\\n",
       "7   63,68,69,70,66,61,59,61,66,68    66,63       63,68,66,61,59   \n",
       "14        158,159,160,159,161,162      162  158,162,160,159,161   \n",
       "19            200,201,202,203,204  201,205  204,202,203,200,201   \n",
       "34                    371,372,371  371,373              371,372   \n",
       "40                            422      422                  422   \n",
       "\n",
       "              re_bought  \n",
       "7        63,68,69,70,66  \n",
       "14  158,162,160,159,161  \n",
       "19  204,202,200,201,203  \n",
       "34              371,372  \n",
       "40                  422  "
      ]
     },
     "execution_count": 109,
     "metadata": {},
     "output_type": "execute_result"
    }
   ],
   "source": [
    "df_test.head()"
   ]
  },
  {
   "cell_type": "code",
   "execution_count": 155,
   "metadata": {},
   "outputs": [],
   "source": [
    "def prec(b, r, k):\n",
    "    b_l = b.split(',')\n",
    "    r_l = r.split(',')\n",
    "    rez = 0\n",
    "    for i in range(min(k, len(r_l))):\n",
    "        if r_l[i] in b_l:\n",
    "            rez += 1\n",
    "    return rez / k\n",
    "def prec_1(b, r):\n",
    "    return prec(b, r, 1)\n",
    "def prec_5(b, r):\n",
    "    return prec(b, r, 5)\n",
    "\n",
    "def rec(b, r, k):\n",
    "    b_l = b.split(',')\n",
    "    r_l = r.split(',')\n",
    "    rez = 0\n",
    "    for i in range(min(k, len(r_l))):\n",
    "        if r_l[i] in b_l:\n",
    "            rez += 1\n",
    "    return rez / len(b_l)        "
   ]
  },
  {
   "cell_type": "code",
   "execution_count": 130,
   "metadata": {},
   "outputs": [
    {
     "name": "stdout",
     "output_type": "stream",
     "text": [
      "1.0\n"
     ]
    }
   ],
   "source": [
    "b = '1,2,3'\n",
    "r = '3,5'\n",
    "print(prec_1(b, r))"
   ]
  },
  {
   "cell_type": "code",
   "execution_count": 156,
   "metadata": {},
   "outputs": [],
   "source": [
    "\n",
    "for i in df_train.index:\n",
    "    df_train.loc[[i],['prec_1_v']] = prec_1(df_train['bought'][i], df_train['re_viewed'][i])\n",
    "    df_train.loc[[i],['prec_5_v']] = prec_5(df_train['bought'][i], df_train['re_viewed'][i])\n",
    "    df_train.loc[[i],['rec_1_v']] = rec(df_train['bought'][i], df_train['re_viewed'][i], 1)\n",
    "    df_train.loc[[i],['rec_5_v']] = rec(df_train['bought'][i], df_train['re_viewed'][i], 5)"
   ]
  },
  {
   "cell_type": "code",
   "execution_count": 149,
   "metadata": {},
   "outputs": [
    {
     "data": {
      "text/html": [
       "<div>\n",
       "<style scoped>\n",
       "    .dataframe tbody tr th:only-of-type {\n",
       "        vertical-align: middle;\n",
       "    }\n",
       "\n",
       "    .dataframe tbody tr th {\n",
       "        vertical-align: top;\n",
       "    }\n",
       "\n",
       "    .dataframe thead th {\n",
       "        text-align: right;\n",
       "    }\n",
       "</style>\n",
       "<table border=\"1\" class=\"dataframe\">\n",
       "  <thead>\n",
       "    <tr style=\"text-align: right;\">\n",
       "      <th></th>\n",
       "      <th>viewed</th>\n",
       "      <th>bought</th>\n",
       "      <th>re_viewed</th>\n",
       "      <th>re_bought</th>\n",
       "      <th>prec_1_v</th>\n",
       "      <th>prec_5_v</th>\n",
       "      <th>rec_1_v</th>\n",
       "      <th>rec_5_v</th>\n",
       "    </tr>\n",
       "  </thead>\n",
       "  <tbody>\n",
       "    <tr>\n",
       "      <th>7</th>\n",
       "      <td>59,60,61,62,60,63,64,65,66,61,67,68,67</td>\n",
       "      <td>67,60,63</td>\n",
       "      <td>63,64,60,61,65</td>\n",
       "      <td>60,63,67,59,61</td>\n",
       "      <td>1.0</td>\n",
       "      <td>0.40</td>\n",
       "      <td>0.333333</td>\n",
       "      <td>0.666667</td>\n",
       "    </tr>\n",
       "    <tr>\n",
       "      <th>10</th>\n",
       "      <td>84,85,86,87,88,89,84,90,91,92,93,86</td>\n",
       "      <td>86</td>\n",
       "      <td>85,93,89,90,84</td>\n",
       "      <td>86,85,93,84,87</td>\n",
       "      <td>0.0</td>\n",
       "      <td>0.00</td>\n",
       "      <td>0.000000</td>\n",
       "      <td>0.000000</td>\n",
       "    </tr>\n",
       "    <tr>\n",
       "      <th>19</th>\n",
       "      <td>138,198,199,127</td>\n",
       "      <td>199</td>\n",
       "      <td>127,138,198,199</td>\n",
       "      <td>138,199,127,198</td>\n",
       "      <td>0.0</td>\n",
       "      <td>0.25</td>\n",
       "      <td>0.000000</td>\n",
       "      <td>1.000000</td>\n",
       "    </tr>\n",
       "    <tr>\n",
       "      <th>30</th>\n",
       "      <td>303,304,305,306,307,308,309,310,311,312</td>\n",
       "      <td>303</td>\n",
       "      <td>303,306,304,307,309</td>\n",
       "      <td>303,304,305,306,307</td>\n",
       "      <td>1.0</td>\n",
       "      <td>0.20</td>\n",
       "      <td>1.000000</td>\n",
       "      <td>1.000000</td>\n",
       "    </tr>\n",
       "    <tr>\n",
       "      <th>33</th>\n",
       "      <td>352,353,352</td>\n",
       "      <td>352</td>\n",
       "      <td>352,353</td>\n",
       "      <td>352,353</td>\n",
       "      <td>1.0</td>\n",
       "      <td>0.50</td>\n",
       "      <td>1.000000</td>\n",
       "      <td>1.000000</td>\n",
       "    </tr>\n",
       "  </tbody>\n",
       "</table>\n",
       "</div>"
      ],
      "text/plain": [
       "                                     viewed    bought            re_viewed  \\\n",
       "7    59,60,61,62,60,63,64,65,66,61,67,68,67  67,60,63       63,64,60,61,65   \n",
       "10      84,85,86,87,88,89,84,90,91,92,93,86        86       85,93,89,90,84   \n",
       "19                          138,198,199,127       199      127,138,198,199   \n",
       "30  303,304,305,306,307,308,309,310,311,312       303  303,306,304,307,309   \n",
       "33                              352,353,352       352              352,353   \n",
       "\n",
       "              re_bought  prec_1_v  prec_5_v   rec_1_v   rec_5_v  \n",
       "7        60,63,67,59,61       1.0      0.40  0.333333  0.666667  \n",
       "10       86,85,93,84,87       0.0      0.00  0.000000  0.000000  \n",
       "19      138,199,127,198       0.0      0.25  0.000000  1.000000  \n",
       "30  303,304,305,306,307       1.0      0.20  1.000000  1.000000  \n",
       "33              352,353       1.0      0.50  1.000000  1.000000  "
      ]
     },
     "execution_count": 149,
     "metadata": {},
     "output_type": "execute_result"
    }
   ],
   "source": [
    "df_train.head()"
   ]
  },
  {
   "cell_type": "code",
   "execution_count": 163,
   "metadata": {},
   "outputs": [
    {
     "name": "stdout",
     "output_type": "stream",
     "text": [
      "0.44 0.51 0.82 0.21\n"
     ]
    }
   ],
   "source": [
    "#save_answerArray(1,[round(df_train.rec_1_v.mean(), 2), round(df_train.prec_1_v.mean(), 2),\n",
    "#                    round(df_train.rec_5_v.mean(), 2), round(df_train.prec_5_v.mean(), 2)])\n",
    "print(round(df_train.rec_1_v.mean(), 2), round(df_train.prec_1_v.mean(), 2),\n",
    "                    round(df_train.rec_5_v.mean(), 2), round(df_train.prec_5_v.mean(), 2))    "
   ]
  },
  {
   "cell_type": "code",
   "execution_count": 158,
   "metadata": {},
   "outputs": [],
   "source": [
    "for i in df_test.index:\n",
    "    df_test.loc[[i],['prec_1_v']] = prec_1(df_test['bought'][i], df_test['re_viewed'][i])\n",
    "    df_test.loc[[i],['prec_5_v']] = prec_5(df_test['bought'][i], df_test['re_viewed'][i])\n",
    "    df_test.loc[[i],['rec_1_v']] = rec(df_test['bought'][i], df_test['re_viewed'][i], 1)\n",
    "    df_test.loc[[i],['rec_5_v']] = rec(df_test['bought'][i], df_test['re_viewed'][i], 5)"
   ]
  },
  {
   "cell_type": "code",
   "execution_count": 169,
   "metadata": {},
   "outputs": [
    {
     "name": "stdout",
     "output_type": "stream",
     "text": [
      "0.42 0.48 0.8 0.2\n"
     ]
    }
   ],
   "source": [
    "#save_answerArray(2,[round(df_test.rec_1_v.mean(), 2), round(df_test.prec_1_v.mean(), 2),\n",
    "#                    round(df_test.rec_5_v.mean(), 2), round(df_test.prec_5_v.mean(), 2)])\n",
    "print(round(df_test.rec_1_v.mean(), 2), round(df_test.prec_1_v.mean(), 2),\n",
    "                    round(df_test.rec_5_v.mean(), 2), round(df_test.prec_5_v.mean(), 2))"
   ]
  },
  {
   "cell_type": "code",
   "execution_count": 160,
   "metadata": {},
   "outputs": [],
   "source": [
    "for i in df_train.index:\n",
    "    df_train.loc[[i],['prec_1_b']] = prec_1(df_train['bought'][i], df_train['re_bought'][i])\n",
    "    df_train.loc[[i],['prec_5_b']] = prec_5(df_train['bought'][i], df_train['re_bought'][i])\n",
    "    df_train.loc[[i],['rec_1_b']] = rec(df_train['bought'][i], df_train['re_bought'][i], 1)\n",
    "    df_train.loc[[i],['rec_5_b']] = rec(df_train['bought'][i], df_train['re_bought'][i], 5)"
   ]
  },
  {
   "cell_type": "code",
   "execution_count": 165,
   "metadata": {},
   "outputs": [
    {
     "name": "stdout",
     "output_type": "stream",
     "text": [
      "0.69 0.8 0.93 0.25\n"
     ]
    }
   ],
   "source": [
    "#save_answerArray(3,[round(df_train.rec_1_b.mean(), 2), round(df_train.prec_1_b.mean(), 2),\n",
    "#                    round(df_train.rec_5_b.mean(), 2), round(df_train.prec_5_b.mean(), 2)])\n",
    "print(round(df_train.rec_1_b.mean(), 2), round(df_train.prec_1_b.mean(), 2),\n",
    "                    round(df_train.rec_5_b.mean(), 2), round(df_train.prec_5_b.mean(), 2))"
   ]
  },
  {
   "cell_type": "code",
   "execution_count": 166,
   "metadata": {},
   "outputs": [],
   "source": [
    "for i in df_test.index:\n",
    "    df_test.loc[[i],['prec_1_b']] = prec_1(df_test['bought'][i], df_test['re_bought'][i])\n",
    "    df_test.loc[[i],['prec_5_b']] = prec_5(df_test['bought'][i], df_test['re_bought'][i])\n",
    "    df_test.loc[[i],['rec_1_b']] = rec(df_test['bought'][i], df_test['re_bought'][i], 1)\n",
    "    df_test.loc[[i],['rec_5_b']] = rec(df_test['bought'][i], df_test['re_bought'][i], 5)"
   ]
  },
  {
   "cell_type": "code",
   "execution_count": 168,
   "metadata": {},
   "outputs": [
    {
     "name": "stdout",
     "output_type": "stream",
     "text": [
      "0.42 0.48 0.82 0.21\n"
     ]
    }
   ],
   "source": [
    "#save_answerArray(4,[round(df_test.rec_1_b.mean(), 2), round(df_test.prec_1_b.mean(), 2),\n",
    "#                    round(df_test.rec_5_b.mean(), 2), round(df_test.prec_5_b.mean(), 2)])\n",
    "print(round(df_test.rec_1_v.mean(), 2), round(df_test.prec_1_v.mean(), 2),\n",
    "                    round(df_test.rec_5_b.mean(), 2), round(df_test.prec_5_b.mean(), 2))"
   ]
  },
  {
   "cell_type": "code",
   "execution_count": null,
   "metadata": {},
   "outputs": [],
   "source": []
  }
 ],
 "metadata": {
  "kernelspec": {
   "display_name": "Python 3",
   "language": "python",
   "name": "python3"
  },
  "language_info": {
   "codemirror_mode": {
    "name": "ipython",
    "version": 3
   },
   "file_extension": ".py",
   "mimetype": "text/x-python",
   "name": "python",
   "nbconvert_exporter": "python",
   "pygments_lexer": "ipython3",
   "version": "3.8.5"
  }
 },
 "nbformat": 4,
 "nbformat_minor": 4
}
